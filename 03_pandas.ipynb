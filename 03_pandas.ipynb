{
 "cells": [
  {
   "cell_type": "markdown",
   "metadata": {},
   "source": [
    "# Pandas library - storing and manipulating data in \"dataframes\" (tables)"
   ]
  },
  {
   "cell_type": "markdown",
   "metadata": {},
   "source": [
    "### Introduction to Pandas\n",
    "Pandas is a Python package providing fast, flexible, and expressive data structures designed to work with relational or labeled data both.Think of Pandas as a Python version of Excel\n",
    "\n",
    "It is a fundamental high-level building block for doing practical, real world data analysis in Python.Pandas is well suited for:\n",
    "\n",
    "pandas is well suited for:\n",
    "\n",
    "* Tabular data with heterogeneously-typed columns, as in an SQL table or Excel spreadsheet\n",
    "* Ordered and unordered (not necessarily fixed-frequency) time series data.\n",
    "* Arbitrary matrix data (homogeneously typed or heterogeneous) with row and column labels\n",
    "* Any other form of observational / statistical data sets. The data actually need not be labeled at all to be placed into a pandas data structure\n"
   ]
  },
  {
   "cell_type": "code",
   "execution_count": 2,
   "metadata": {
    "collapsed": false,
    "pycharm": {
     "is_executing": false
    }
   },
   "outputs": [],
   "source": [
    "import pandas as pd"
   ]
  },
  {
   "cell_type": "markdown",
   "metadata": {},
   "source": [
    "### Reading from CSV file into dataframe\n",
    "\n",
    "A DataFrame is a tabular data structure, encapsulating multiple series like columns in a spreadsheet. Data are stored internally as a 2-dimensional object, but the DataFrame allows us to represent and manipulate higher-dimensional data."
   ]
  },
  {
   "cell_type": "code",
   "execution_count": 3,
   "metadata": {
    "collapsed": false,
    "pycharm": {
     "is_executing": false
    }
   },
   "outputs": [],
   "source": [
    "cities = pd.read_csv('data/Cities.csv')\n"
   ]
  },
  {
   "cell_type": "code",
   "execution_count": 8,
   "metadata": {
    "collapsed": false,
    "pycharm": {
     "is_executing": false
    }
   },
   "outputs": [
    {
     "data": {
      "text/plain": "Index(['city', 'country', 'latitude', 'longitude', 'temperature'], dtype='object')"
     },
     "metadata": {},
     "output_type": "execute_result",
     "execution_count": 8
    }
   ],
   "source": [
    "# List all the columns in the DataFrame\n",
    "cities.columns"
   ]
  },
  {
   "cell_type": "code",
   "execution_count": 7,
   "metadata": {
    "collapsed": false,
    "scrolled": false,
    "pycharm": {
     "is_executing": false
    }
   },
   "outputs": [
    {
     "data": {
      "text/plain": "213"
     },
     "metadata": {},
     "output_type": "execute_result",
     "execution_count": 7
    }
   ],
   "source": [
    "# We can use the len function again here to see how many columns there are in the dataframe: 213\n",
    "len(cities)"
   ]
  },
  {
   "cell_type": "code",
   "execution_count": 6,
   "metadata": {
    "collapsed": false,
    "pycharm": {
     "is_executing": false
    }
   },
   "outputs": [
    {
     "data": {
      "text/plain": "       city         country  latitude  longitude  temperature\n0   Aalborg         Denmark     57.03       9.92         7.52\n1  Aberdeen  United Kingdom     57.17      -2.08         8.10\n2    Abisko          Sweden     63.35      18.83         0.20\n3     Adana          Turkey     36.99      35.32        18.67\n4  Albacete           Spain     39.00      -1.87        12.62",
      "text/html": "<div>\n<style scoped>\n    .dataframe tbody tr th:only-of-type {\n        vertical-align: middle;\n    }\n\n    .dataframe tbody tr th {\n        vertical-align: top;\n    }\n\n    .dataframe thead th {\n        text-align: right;\n    }\n</style>\n<table border=\"1\" class=\"dataframe\">\n  <thead>\n    <tr style=\"text-align: right;\">\n      <th></th>\n      <th>city</th>\n      <th>country</th>\n      <th>latitude</th>\n      <th>longitude</th>\n      <th>temperature</th>\n    </tr>\n  </thead>\n  <tbody>\n    <tr>\n      <td>0</td>\n      <td>Aalborg</td>\n      <td>Denmark</td>\n      <td>57.03</td>\n      <td>9.92</td>\n      <td>7.52</td>\n    </tr>\n    <tr>\n      <td>1</td>\n      <td>Aberdeen</td>\n      <td>United Kingdom</td>\n      <td>57.17</td>\n      <td>-2.08</td>\n      <td>8.10</td>\n    </tr>\n    <tr>\n      <td>2</td>\n      <td>Abisko</td>\n      <td>Sweden</td>\n      <td>63.35</td>\n      <td>18.83</td>\n      <td>0.20</td>\n    </tr>\n    <tr>\n      <td>3</td>\n      <td>Adana</td>\n      <td>Turkey</td>\n      <td>36.99</td>\n      <td>35.32</td>\n      <td>18.67</td>\n    </tr>\n    <tr>\n      <td>4</td>\n      <td>Albacete</td>\n      <td>Spain</td>\n      <td>39.00</td>\n      <td>-1.87</td>\n      <td>12.62</td>\n    </tr>\n  </tbody>\n</table>\n</div>"
     },
     "metadata": {},
     "output_type": "execute_result",
     "execution_count": 6
    }
   ],
   "source": [
    "# Let view the first few rows \n",
    "cities.head()"
   ]
  },
  {
   "cell_type": "markdown",
   "metadata": {},
   "source": [
    "Notice that read_csv automatically considered the first row in the file to be a header row.\n",
    "We can override default behavior by customizing some the arguments, like header, names or index_col."
   ]
  },
  {
   "cell_type": "code",
   "execution_count": 5,
   "metadata": {
    "collapsed": false,
    "pycharm": {
     "is_executing": false
    }
   },
   "outputs": [
    {
     "data": {
      "text/plain": "            city      country  latitude  longitude  temperature\n203       Vienna      Austria     48.20      16.37         7.86\n204         Vigo        Spain     42.22      -8.73        12.85\n205      Vilnius    Lithuania     54.68      25.32         5.38\n206       Warsaw       Poland     52.25      21.00         7.20\n207      Wroclaw       Poland     51.11      17.03         7.17\n208  Yevpatoriya      Ukraine     45.20      33.36        10.02\n209     Zaragoza        Spain     41.65      -0.89        14.17\n210     Zhytomyr      Ukraine     50.25      28.66         6.67\n211    Zonguldak       Turkey     41.43      31.78        10.64\n212       Zurich  Switzerland     47.38       8.56         6.68",
      "text/html": "<div>\n<style scoped>\n    .dataframe tbody tr th:only-of-type {\n        vertical-align: middle;\n    }\n\n    .dataframe tbody tr th {\n        vertical-align: top;\n    }\n\n    .dataframe thead th {\n        text-align: right;\n    }\n</style>\n<table border=\"1\" class=\"dataframe\">\n  <thead>\n    <tr style=\"text-align: right;\">\n      <th></th>\n      <th>city</th>\n      <th>country</th>\n      <th>latitude</th>\n      <th>longitude</th>\n      <th>temperature</th>\n    </tr>\n  </thead>\n  <tbody>\n    <tr>\n      <td>203</td>\n      <td>Vienna</td>\n      <td>Austria</td>\n      <td>48.20</td>\n      <td>16.37</td>\n      <td>7.86</td>\n    </tr>\n    <tr>\n      <td>204</td>\n      <td>Vigo</td>\n      <td>Spain</td>\n      <td>42.22</td>\n      <td>-8.73</td>\n      <td>12.85</td>\n    </tr>\n    <tr>\n      <td>205</td>\n      <td>Vilnius</td>\n      <td>Lithuania</td>\n      <td>54.68</td>\n      <td>25.32</td>\n      <td>5.38</td>\n    </tr>\n    <tr>\n      <td>206</td>\n      <td>Warsaw</td>\n      <td>Poland</td>\n      <td>52.25</td>\n      <td>21.00</td>\n      <td>7.20</td>\n    </tr>\n    <tr>\n      <td>207</td>\n      <td>Wroclaw</td>\n      <td>Poland</td>\n      <td>51.11</td>\n      <td>17.03</td>\n      <td>7.17</td>\n    </tr>\n    <tr>\n      <td>208</td>\n      <td>Yevpatoriya</td>\n      <td>Ukraine</td>\n      <td>45.20</td>\n      <td>33.36</td>\n      <td>10.02</td>\n    </tr>\n    <tr>\n      <td>209</td>\n      <td>Zaragoza</td>\n      <td>Spain</td>\n      <td>41.65</td>\n      <td>-0.89</td>\n      <td>14.17</td>\n    </tr>\n    <tr>\n      <td>210</td>\n      <td>Zhytomyr</td>\n      <td>Ukraine</td>\n      <td>50.25</td>\n      <td>28.66</td>\n      <td>6.67</td>\n    </tr>\n    <tr>\n      <td>211</td>\n      <td>Zonguldak</td>\n      <td>Turkey</td>\n      <td>41.43</td>\n      <td>31.78</td>\n      <td>10.64</td>\n    </tr>\n    <tr>\n      <td>212</td>\n      <td>Zurich</td>\n      <td>Switzerland</td>\n      <td>47.38</td>\n      <td>8.56</td>\n      <td>6.68</td>\n    </tr>\n  </tbody>\n</table>\n</div>"
     },
     "metadata": {},
     "output_type": "execute_result",
     "execution_count": 5
    }
   ],
   "source": [
    "# View Last 10 rows\n",
    "cities.tail(10)"
   ]
  },
  {
   "cell_type": "markdown",
   "metadata": {},
   "source": [
    "We can also inspect the format for our columns. We can see that some are integers, some are 'float' (can have a decimal), and some are 'objects' (text). If you have a identifying text variable that has accidentally been imported as a float, for instance, that could cause problems down the road, so you should fix it before continuing."
   ]
  },
  {
   "cell_type": "code",
   "execution_count": 9,
   "metadata": {
    "collapsed": false,
    "pycharm": {
     "is_executing": false
    }
   },
   "outputs": [
    {
     "data": {
      "text/plain": "city            object\ncountry         object\nlatitude       float64\nlongitude      float64\ntemperature    float64\ndtype: object"
     },
     "metadata": {},
     "output_type": "execute_result",
     "execution_count": 9
    }
   ],
   "source": [
    "cities.dtypes"
   ]
  },
  {
   "cell_type": "markdown",
   "metadata": {},
   "source": [
    "### Adding column\n",
    "Let us another column that we take temperature in Farenheight"
   ]
  },
  {
   "cell_type": "code",
   "execution_count": 10,
   "metadata": {
    "collapsed": true,
    "pycharm": {
     "is_executing": false
    }
   },
   "outputs": [],
   "source": [
    "cities['tempF']=cities['temperature']*9/5+32"
   ]
  },
  {
   "cell_type": "code",
   "execution_count": null,
   "metadata": {
    "collapsed": false
   },
   "outputs": [],
   "source": [
    "cities.head()"
   ]
  },
  {
   "cell_type": "markdown",
   "metadata": {},
   "source": [
    "### <font color=\"green\">Your Turn</font>"
   ]
  },
  {
   "cell_type": "code",
   "execution_count": null,
   "metadata": {
    "collapsed": true
   },
   "outputs": [],
   "source": [
    "## Try to add another column that convert the temperature in F back to centigrades and name it tempC\n"
   ]
  },
  {
   "cell_type": "markdown",
   "metadata": {},
   "source": [
    "### Dropping Column\n",
    " Suppose we want to delete the tempF column"
   ]
  },
  {
   "cell_type": "code",
   "execution_count": null,
   "metadata": {
    "collapsed": false
   },
   "outputs": [],
   "source": [
    "cities.drop('tempF', axis=1, inplace=True)\n",
    "cities.head()"
   ]
  },
  {
   "cell_type": "markdown",
   "metadata": {},
   "source": [
    "### Note:\n",
    " 1. axis=1 denotes that we are referring to a column, not a row\n",
    " 2. inplace=True means that the changes are saved to the df right away"
   ]
  },
  {
   "cell_type": "markdown",
   "metadata": {},
   "source": [
    "### <font color=\"green\">Your Turn</font>"
   ]
  },
  {
   "cell_type": "code",
   "execution_count": null,
   "metadata": {
    "collapsed": true
   },
   "outputs": [],
   "source": [
    "# Drop the tempC column you created before"
   ]
  },
  {
   "cell_type": "markdown",
   "metadata": {},
   "source": [
    "### Slicing Subsets of Rows and Columns in Python"
   ]
  },
  {
   "cell_type": "code",
   "execution_count": null,
   "metadata": {
    "collapsed": false
   },
   "outputs": [],
   "source": [
    "# Selecting a single column - returns a 'series'\n",
    "cities.city\n",
    "# Also show cities['temperature']"
   ]
  },
  {
   "cell_type": "code",
   "execution_count": null,
   "metadata": {
    "collapsed": false
   },
   "outputs": [],
   "source": [
    "# Selecting multiple columns - returns a dataframe\n",
    "cities[['city','temperature']]\n"
   ]
  },
  {
   "cell_type": "code",
   "execution_count": null,
   "metadata": {
    "collapsed": false
   },
   "outputs": [],
   "source": [
    "# Selecting rows by number\n",
    "cities[15:20]\n",
    "# Show cities[:8] and cities[200:]"
   ]
  },
  {
   "cell_type": "markdown",
   "metadata": {},
   "source": [
    "### Position Based Selection of columns and lows\n",
    "Now, sometimes, you don’t have row or column labels. In such case you will have to rely on position based indexing implemented with iloc instead of loc: \n",
    ">.loc for label-based indexing\n",
    "\n",
    ">.iloc for positional indexing"
   ]
  },
  {
   "cell_type": "code",
   "execution_count": null,
   "metadata": {
    "collapsed": false
   },
   "outputs": [],
   "source": [
    "# And here is how to slice a column:\n",
    "cities.loc[: , \"temperature\"]\n",
    "\n",
    "# cities.iloc[:,4] # postion indexing \n",
    "\n"
   ]
  },
  {
   "cell_type": "code",
   "execution_count": null,
   "metadata": {
    "collapsed": false
   },
   "outputs": [],
   "source": [
    "# To extract only a row you would do the inverse:\n",
    "cities.iloc[4,:]"
   ]
  },
  {
   "cell_type": "code",
   "execution_count": null,
   "metadata": {
    "collapsed": false
   },
   "outputs": [],
   "source": [
    "## Select first four rows(including header) and first three column (including SN)\n",
    "cities.iloc[0:3,0:2]"
   ]
  },
  {
   "cell_type": "code",
   "execution_count": null,
   "metadata": {
    "collapsed": false
   },
   "outputs": [],
   "source": [
    "# Select only the first two column\n",
    "cities.iloc[:,0:2]"
   ]
  },
  {
   "cell_type": "code",
   "execution_count": null,
   "metadata": {
    "collapsed": false
   },
   "outputs": [],
   "source": [
    "# Select Countries and temperature\n",
    "cities.iloc[:,[1, 4]]"
   ]
  },
  {
   "cell_type": "markdown",
   "metadata": {},
   "source": [
    "### <font color=\"green\">Your Turn</font>\n",
    "\n",
    "* What happens when you type the code below?\n",
    "> ```python\n",
    "     cities.loc[[0, 10, 200], :]\n",
    "  ```\n",
    "\n",
    "* What happens when you type\n",
    "> ```python\n",
    "    cities.iloc[0:4, 1:4]\n",
    "    cities.loc[0:4, 1:4]\n",
    "  ```\n",
    " How are the two commands different?\n",
    " \n",
    " \n",
    "* What happens when you type:\n",
    "> \n",
    "```python\n",
    "          cities[0:3]\n",
    "          cities[:5]\n",
    "          cities[-1:] \n",
    "```          \n",
    "          "
   ]
  },
  {
   "cell_type": "markdown",
   "metadata": {},
   "source": [
    "## Subsetting Data Using Criteria\n",
    "We can also select a subset of our data using criteria. For example, we can select all rows that have temprature higher than 15."
   ]
  },
  {
   "cell_type": "code",
   "execution_count": null,
   "metadata": {
    "collapsed": false
   },
   "outputs": [],
   "source": [
    "cities[cities.temperature > 15]\n"
   ]
  },
  {
   "cell_type": "code",
   "execution_count": null,
   "metadata": {
    "collapsed": false
   },
   "outputs": [],
   "source": [
    "# All rows with langitude < 0\n",
    "cities[cities.longitude < 0]"
   ]
  },
  {
   "cell_type": "code",
   "execution_count": null,
   "metadata": {
    "collapsed": false
   },
   "outputs": [],
   "source": [
    "# Select are data which are in france\n",
    "cities[cities.country == 'Spain']"
   ]
  },
  {
   "cell_type": "code",
   "execution_count": null,
   "metadata": {
    "collapsed": false
   },
   "outputs": [],
   "source": [
    "# String operations - countries with 'ia' in their name\n",
    "cities[cities.country.str.contains('ia')]"
   ]
  },
  {
   "cell_type": "markdown",
   "metadata": {},
   "source": [
    "## Sort Data in Pandas"
   ]
  },
  {
   "cell_type": "code",
   "execution_count": null,
   "metadata": {
    "collapsed": false
   },
   "outputs": [],
   "source": [
    "# Sort the dataframe's rows by latitude, in descending order\n",
    "cities.sort_values(by='latitude', ascending=0)"
   ]
  },
  {
   "cell_type": "code",
   "execution_count": null,
   "metadata": {
    "collapsed": false
   },
   "outputs": [],
   "source": [
    "# Sorting by country and then by  temperature descending\n",
    "cities.sort_values(by=['country','temperature'],ascending=[True,False])"
   ]
  },
  {
   "cell_type": "code",
   "execution_count": null,
   "metadata": {
    "collapsed": false
   },
   "outputs": [],
   "source": [
    "# Putting it together: selecting rows, selecting columns, sorting:\n",
    "# City and longitude of all cities with latitude > 50 and\n",
    "# temperature > 9, sorted by longitude\n",
    "temp1 = cities[(cities.latitude > 50) & (cities.temperature > 9)]\n",
    "temp2 = temp1[['city','longitude']]\n",
    "temp2.sort_values(by='longitude')\n",
    "# Show combining first two, then combining all (use \\ for long lines)\n",
    "# Note similar functionality to SQL"
   ]
  },
  {
   "cell_type": "markdown",
   "metadata": {},
   "source": [
    "### <font color=\"green\">Your Turn</font>"
   ]
  },
  {
   "cell_type": "code",
   "execution_count": null,
   "metadata": {
    "collapsed": false
   },
   "outputs": [],
   "source": [
    "# Read the Countries.csv file into a dataframe\n",
    "countries = pd.read_csv('data/Countries.csv')\n",
    "countries.head()"
   ]
  },
  {
   "cell_type": "code",
   "execution_count": null,
   "metadata": {
    "collapsed": false
   },
   "outputs": [],
   "source": [
    "# Print a list of all countries that don't have coastline and\n",
    "# are not in the EU, together with their highest points,\n",
    "# sorted by highest point (smallest to largest)."
   ]
  },
  {
   "cell_type": "markdown",
   "metadata": {},
   "source": [
    "## Calculating Statistics From Data\n",
    "We can calculate basic statistics for all records in a single column using the syntax below:"
   ]
  },
  {
   "cell_type": "code",
   "execution_count": null,
   "metadata": {
    "collapsed": false
   },
   "outputs": [],
   "source": [
    "# We can also extract one specific metric if we wish:\n",
    "cities.describe()"
   ]
  },
  {
   "cell_type": "code",
   "execution_count": null,
   "metadata": {
    "collapsed": false
   },
   "outputs": [],
   "source": [
    "cities['temperature'].mean()"
   ]
  },
  {
   "cell_type": "markdown",
   "metadata": {},
   "source": [
    "However we often want to calculate summary statistics grouped by subsets or attributes within fields of our data. For example, we might want to calculate the average tempearture of all cities per countries. To accomplish this we  can use  **.groupby** method"
   ]
  },
  {
   "cell_type": "code",
   "execution_count": null,
   "metadata": {
    "collapsed": false
   },
   "outputs": [],
   "source": [
    "#summary statistics for all numeric columns\n",
    "cities.groupby('country').describe()"
   ]
  },
  {
   "cell_type": "code",
   "execution_count": null,
   "metadata": {
    "collapsed": false
   },
   "outputs": [],
   "source": [
    "cities.groupby('country').mean()"
   ]
  },
  {
   "cell_type": "code",
   "execution_count": null,
   "metadata": {
    "collapsed": false
   },
   "outputs": [],
   "source": [
    "# Average temperature of cities in each country\n",
    "cities.groupby('country').mean()[['temperature']]\n",
    "# or with single brackets ['temperature'] or .temperature\n",
    "# Also show without column selection"
   ]
  },
  {
   "cell_type": "code",
   "execution_count": null,
   "metadata": {
    "collapsed": false
   },
   "outputs": [],
   "source": [
    "# Average temperature of cities in France, computed two ways\n",
    "french = cities[cities.country == 'France']\n",
    "print ('Computed as sum/count:', sum(french['temperature'])/len(french['temperature']))\n"
   ]
  },
  {
   "cell_type": "code",
   "execution_count": null,
   "metadata": {
    "collapsed": false
   },
   "outputs": [],
   "source": [
    "print ('Computed as mean:', french['temperature'].mean())"
   ]
  },
  {
   "cell_type": "markdown",
   "metadata": {},
   "source": [
    "### <font color=\"green\">Your Turn</font>"
   ]
  },
  {
   "cell_type": "code",
   "execution_count": null,
   "metadata": {
    "collapsed": false
   },
   "outputs": [],
   "source": [
    "# Read the Players  data into dataframes\n"
   ]
  },
  {
   "cell_type": "code",
   "execution_count": null,
   "metadata": {
    "collapsed": true
   },
   "outputs": [],
   "source": [
    "# How many players played as goalkeeper?\n"
   ]
  },
  {
   "cell_type": "code",
   "execution_count": null,
   "metadata": {
    "collapsed": true
   },
   "outputs": [],
   "source": [
    "# Summarize the minutes played by each player's postion in your data. \n",
    "\n"
   ]
  },
  {
   "cell_type": "markdown",
   "metadata": {},
   "source": [
    "#### Use Countries data"
   ]
  },
  {
   "cell_type": "code",
   "execution_count": null,
   "metadata": {
    "collapsed": true
   },
   "outputs": [],
   "source": [
    "# Find the average highest point of countries in the EU and not in the EU,\n",
    "# then the average highest point of countries with and without coastline\n",
    "# Note: When there's more than one \"query\" you only see the last result.\n",
    "# Try using print\n",
    "# Hint: You can use groupby!"
   ]
  },
  {
   "cell_type": "markdown",
   "metadata": {},
   "source": [
    "## Combining DataFrames\n",
    "\n",
    "In most cases the data that we want to analyse come in multiple files. We thus need to combine these files into a single DataFrame. The pandas package provides various methods for combining DataFrames including **merge** and **concat**. To do this we first need to load the required data files into pandas DataFrames."
   ]
  },
  {
   "cell_type": "code",
   "execution_count": null,
   "metadata": {
    "collapsed": false
   },
   "outputs": [],
   "source": [
    "# merge countries and cities dataset\n",
    "citiesext = cities.merge(countries, on='country')\n",
    "citiesext.head()"
   ]
  },
  {
   "cell_type": "code",
   "execution_count": null,
   "metadata": {
    "collapsed": false
   },
   "outputs": [],
   "source": [
    "# Joining is symmetric\n",
    "countriesext = countries.merge(cities, on='country')\n",
    "countriesext.head()"
   ]
  },
  {
   "cell_type": "markdown",
   "metadata": {},
   "source": [
    "### Writing Out Data to CSV\n",
    "\n",
    "We can use the to_csv command to do export a DataFrame in CSV format. We can save it to a different folder by adding the foldername and a slash to the file **.to_csv('foldername/filename.csv')**.\n"
   ]
  },
  {
   "cell_type": "code",
   "execution_count": null,
   "metadata": {
    "collapsed": false
   },
   "outputs": [],
   "source": [
    "#Save the citiesext to harddisk\n",
    "citiesext.to_csv('data/citiesext.csv')"
   ]
  },
  {
   "cell_type": "code",
   "execution_count": null,
   "metadata": {
    "collapsed": false
   },
   "outputs": [],
   "source": []
  },
  {
   "cell_type": "code",
   "execution_count": null,
   "metadata": {
    "collapsed": false
   },
   "outputs": [],
   "source": [
    "# Plotting\n",
    "# import matplotlib\n",
    "%matplotlib inline\n",
    "cities.plot.scatter(x='latitude', y='temperature')"
   ]
  },
  {
   "cell_type": "code",
   "execution_count": null,
   "metadata": {
    "collapsed": false
   },
   "outputs": [],
   "source": [
    "# Add temp-fahrenheit column\n",
    "cities['temp-fahrenheit'] = (cities.temperature * 9/5) + 32\n",
    "cities"
   ]
  },
  {
   "cell_type": "markdown",
   "metadata": {},
   "source": [
    "### <font color=\"green\">Your Turn: World Cup data</font>"
   ]
  },
  {
   "cell_type": "code",
   "execution_count": 67,
   "metadata": {
    "collapsed": false
   },
   "outputs": [],
   "source": [
    "# Read the Players and Teams data into dataframes\n",
    "players = pd.read_csv('data/Players.csv',index_col='UID')\n",
    "teams = pd.read_csv('data/Teams.csv')"
   ]
  },
  {
   "cell_type": "code",
   "execution_count": null,
   "metadata": {
    "collapsed": false
   },
   "outputs": [],
   "source": [
    "# What player on a team with “ia” in the team name played less than\n",
    "# 200 minutes and made more than 100 passes? Print the player surname."
   ]
  },
  {
   "cell_type": "code",
   "execution_count": null,
   "metadata": {
    "collapsed": false
   },
   "outputs": [],
   "source": [
    "# What is the average number of passes made by defenders? By forwards?"
   ]
  },
  {
   "cell_type": "code",
   "execution_count": null,
   "metadata": {
    "collapsed": false
   },
   "outputs": [],
   "source": [
    "# Which team has the highest ratio of goalsFor to goalsAgainst?\n",
    "# Print the team name only.\n",
    "# Hint: Add a \"ratio\" column to the teams dataframe, then sort,\n",
    "# then use head(1) or tail(1) depending how you sorted"
   ]
  },
  {
   "cell_type": "code",
   "execution_count": null,
   "metadata": {
    "collapsed": false
   },
   "outputs": [],
   "source": [
    "# How many players who play on a team with ranking <10 played\n",
    "# more than 350 minutes?\n",
    "# Reminder: len() gives number of rows i a dataframe"
   ]
  },
  {
   "cell_type": "code",
   "execution_count": null,
   "metadata": {
    "collapsed": false
   },
   "outputs": [],
   "source": [
    "# BONUS!\n",
    "# Write a loop that interactively asks the user to enter a team name.\n",
    "# If the team exists, list all of the players on that team\n",
    "# (with all of their information), sorted by descending minutes played.\n",
    "# If the team doesn't exist, print \"Team not in 2010 World Cup\".\n",
    "# If 'quit' is entered, terminate the loop.\n",
    "# Reminder: To read a string from the user instead of a number, use\n",
    "# raw_input() instead of input()\n",
    "# Note: To test if a value v is (not) in a column c of a dataframe D,\n",
    "# use \"v (not) in D['c'].values\""
   ]
  },
  {
   "cell_type": "markdown",
   "metadata": {},
   "source": [
    "## Plotting and Visualization\n",
    "\n",
    "There are a handful of third-party Python packages that are suitable for creating scientific plots and visualizations. These include packages like:\n",
    "\n",
    "1. [Matplotlib](http://matplotlib.org/)\n",
    "2. [Seaborn](http://seaborn.pydata.org/)\n",
    "3. [Bokeh](http://bokeh.pydata.org/en/latest/)\n",
    "\n",
    "Here, we will focus excelusively on matplotlib and the high-level plotting availabel within pandas. "
   ]
  },
  {
   "cell_type": "markdown",
   "metadata": {},
   "source": [
    "### Pandas' builtin-plotting\n",
    "\n",
    "Pandas have a **.plot** namespace, with various chart types available **(line, hist, scatter, etc.)**."
   ]
  },
  {
   "cell_type": "code",
   "execution_count": null,
   "metadata": {
    "collapsed": false
   },
   "outputs": [],
   "source": [
    "# Load citiesext dataset\n",
    "citiesext = pd.read_csv('data/citiesext.csv')\n",
    "citiesext.head()"
   ]
  },
  {
   "cell_type": "code",
   "execution_count": null,
   "metadata": {
    "collapsed": false
   },
   "outputs": [],
   "source": [
    "#Line plot\n",
    "citiesext.latitude.plot()"
   ]
  },
  {
   "cell_type": "code",
   "execution_count": null,
   "metadata": {
    "collapsed": false
   },
   "outputs": [],
   "source": [
    "\n",
    "%matplotlib inline\n",
    "citiesext.groupby('EU').temperature.mean().plot(kind='bar' ,color=['green','red'])"
   ]
  },
  {
   "cell_type": "code",
   "execution_count": null,
   "metadata": {
    "collapsed": false
   },
   "outputs": [],
   "source": [
    "# Plot Scatter plot between latitude and temperature\n",
    "citiesext.plot.scatter(x='temperature', y='latitude', c='b')"
   ]
  },
  {
   "cell_type": "code",
   "execution_count": null,
   "metadata": {
    "collapsed": false
   },
   "outputs": [],
   "source": [
    "# Histograms¶\n",
    "citiesext.temperature.hist(grid=False)"
   ]
  },
  {
   "cell_type": "markdown",
   "metadata": {},
   "source": [
    "There are algorithms for determining an \"optimal\" number of bins, each of which varies somehow with the number of observations in the data series."
   ]
  },
  {
   "cell_type": "code",
   "execution_count": null,
   "metadata": {
    "collapsed": false
   },
   "outputs": [],
   "source": [
    "import numpy as np\n",
    "sturges = lambda n: int(np.log2(n) + 1)\n",
    "square_root = lambda n: int(np.sqrt(n))\n",
    "from scipy.stats import kurtosis\n",
    "doanes = lambda data: int(1 + np.log(len(data)) + np.log(1 + kurtosis(data) * (len(data) / 6.) ** 0.5))\n",
    "\n",
    "n = len(citiesext)\n",
    "sturges(n), square_root(n), doanes(citiesext.temperature)"
   ]
  },
  {
   "cell_type": "code",
   "execution_count": null,
   "metadata": {
    "collapsed": false
   },
   "outputs": [],
   "source": [
    "# Histograms¶\n",
    "citiesext.temperature.hist(bins=doanes(citiesext.temperature),grid=False)"
   ]
  },
  {
   "cell_type": "markdown",
   "metadata": {},
   "source": [
    "A density plot is similar to a histogram in that it describes the distribution of the underlying data, but rather than being a pure empirical representation, it is an estimate of the underlying \"true\" distribution. As a result, it is smoothed into a continuous line plot. We create them in Pandas using the plot method with kind='kde', where kde stands for kernel density estimate."
   ]
  },
  {
   "cell_type": "code",
   "execution_count": null,
   "metadata": {
    "collapsed": false
   },
   "outputs": [],
   "source": [
    "citiesext.temperature.plot(kind='kde', xlim=(-10,30))"
   ]
  },
  {
   "cell_type": "markdown",
   "metadata": {},
   "source": [
    "Often, histograms and density plots are shown together:"
   ]
  },
  {
   "cell_type": "code",
   "execution_count": null,
   "metadata": {
    "collapsed": false
   },
   "outputs": [],
   "source": [
    "citiesext.temperature.hist(bins=doanes(citiesext.temperature), normed=True, color='lightseagreen')\n",
    "citiesext.temperature.plot(kind='kde', xlim=(-5,25), style='r--')"
   ]
  },
  {
   "cell_type": "markdown",
   "metadata": {},
   "source": [
    "Here, we had to normalize the histogram (normed=True), since the kernel density is normalized by definition (it is a probability distribution)."
   ]
  },
  {
   "cell_type": "markdown",
   "metadata": {},
   "source": [
    "### Boxplots\n",
    "A different way of visualizing the distribution of data is the boxplot, which is a display of common quantiles; these are typically the quartiles and the lower and upper 5 percent values."
   ]
  },
  {
   "cell_type": "code",
   "execution_count": null,
   "metadata": {
    "collapsed": false
   },
   "outputs": [],
   "source": [
    "citiesext.boxplot(column='temperature', by='EU', grid=False)"
   ]
  },
  {
   "cell_type": "markdown",
   "metadata": {},
   "source": [
    "You can think of the box plot as viewing the distribution from above. The white circles are \"outlier\" points that occur outside the extreme quantiles."
   ]
  },
  {
   "cell_type": "markdown",
   "metadata": {},
   "source": [
    "### <font color=\"green\">Your Turn: World Cup data</font>"
   ]
  },
  {
   "cell_type": "markdown",
   "metadata": {},
   "source": [
    " Using the Teams and Players data: \n",
    " "
   ]
  },
  {
   "cell_type": "code",
   "execution_count": 71,
   "metadata": {
    "collapsed": false
   },
   "outputs": [],
   "source": [
    "# create kernel density estimate plots of the number of passes distributions for midfielder and defender.\n"
   ]
  }
 ],
 "metadata": {
  "kernelspec": {
   "display_name": "Python 3",
   "language": "python",
   "name": "python3"
  },
  "language_info": {
   "codemirror_mode": {
    "name": "ipython",
    "version": 3
   },
   "file_extension": ".py",
   "mimetype": "text/x-python",
   "name": "python",
   "nbconvert_exporter": "python",
   "pygments_lexer": "ipython3",
   "version": "3.6.0"
  },
  "pycharm": {
   "stem_cell": {
    "cell_type": "raw",
    "source": [],
    "metadata": {
     "collapsed": false
    }
   }
  }
 },
 "nbformat": 4,
 "nbformat_minor": 0
}