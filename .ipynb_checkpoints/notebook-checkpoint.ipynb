{
 "cells": [
  {
   "cell_type": "markdown",
   "metadata": {},
   "source": [
    "# House price prediction using multiple regression analysis\n",
    "\n",
    "# Part 1: Exploratory Data Analysis\n",
    "\n",
    "The following notebook presents a thought process of predicting a continuous variable through Machine Learning methods. More specifically, we want to predict house prices based on multiple features using regression analysis. \n",
    "\n",
    "As an example, we will use a dataset of house sales in King County, where Seattle is located.\n",
    "\n",
    "In this notebook we will first apply some Exploratory Data Analysis (EDA) techniques to summarize the main characteristics of the dataset.\n",
    "\n",
    "## 1. Preparation\n",
    "\n",
    "### 1.1 Load the librairies"
   ]
  },
  {
   "cell_type": "code",
   "execution_count": null,
   "metadata": {
    "collapsed": true
   },
   "outputs": [],
   "source": [
    "import numpy as np # NumPy is the fundamental package for scientific computing\n",
    "\n",
    "import pandas as pd # Pandas is an easy-to-use data structures and data analysis tools\n",
    "pd.set_option('display.max_columns', None) # To display all columns\n",
    "\n",
    "import matplotlib.pyplot as plt # Matplotlib is a python 2D plotting library\n",
    "%matplotlib inline \n",
    "# A magic command that tells matplotlib to render figures as static images in the Notebook.\n",
    "\n",
    "import seaborn as sns # Seaborn is a visualization library based on matplotlib (attractive statistical graphics).\n",
    "sns.set_style('whitegrid') # One of the five seaborn themes\n",
    "import warnings\n",
    "warnings.filterwarnings('ignore') # To ignore some of seaborn warning msg\n",
    "\n",
    "from scipy import stats, linalg\n",
    "\n",
    "import folium # for map visualization\n",
    "from folium import plugins"
   ]
  },
  {
   "cell_type": "markdown",
   "metadata": {},
   "source": [
    "humm, looks like folium isn't available on kaggle. We'll work around it \n",
    "\n",
    "### 1.2 Load the dataset\n",
    "\n",
    "Let's load the data from CSV file using pandas and convert some columns to category type (for better summarization)."
   ]
  },
  {
   "cell_type": "code",
   "execution_count": null,
   "metadata": {
    "collapsed": true
   },
   "outputs": [],
   "source": [
    "data = pd.read_csv(\"../input/kc_house_data.csv\", parse_dates = ['date'])\n",
    "data['waterfront'] = data['waterfront'].astype('category',ordered=True)\n",
    "data['view'] = data['view'].astype('category',ordered=True)\n",
    "data['condition'] = data['condition'].astype('category',ordered=True)\n",
    "data['grade'] = data['grade'].astype('category',ordered=False)\n",
    "data['zipcode'] = data['zipcode'].astype(str)\n",
    "data = data.sort('date')\n",
    "data.head(2) # Show the first 2 lines"
   ]
  },
  {
   "cell_type": "code",
   "execution_count": null,
   "metadata": {
    "collapsed": true
   },
   "outputs": [],
   "source": [
    "data.dtypes"
   ]
  },
  {
   "cell_type": "markdown",
   "metadata": {},
   "source": [
    "## 2. Descriptive statistics\n",
    "\n",
    "The initial dimension of the dataset"
   ]
  },
  {
   "cell_type": "code",
   "execution_count": null,
   "metadata": {
    "collapsed": true
   },
   "outputs": [],
   "source": [
    "data.shape"
   ]
  },
  {
   "cell_type": "markdown",
   "metadata": {},
   "source": [
    "Let's summarize the main statistics of each parameters"
   ]
  },
  {
   "cell_type": "code",
   "execution_count": null,
   "metadata": {
    "collapsed": true
   },
   "outputs": [],
   "source": [
    "data.describe(include='all')"
   ]
  },
  {
   "cell_type": "markdown",
   "metadata": {},
   "source": [
    "## 3. Setting the context (map visualization)\n",
    "\n",
    "Before we dive into exploring the data, we’ll want to set the context of the analysis. One good way to do this is with exploratory charts or maps. In this case, we’ll map out the positions of the houses, which will help us understand the problem we’re exploring.\n",
    "\n",
    "In the below code, we:\n",
    "\n",
    "* Setup a map centered on King County.\n",
    "* Add a marker to the map for each house sold in the area.\n",
    "* Display the map."
   ]
  },
  {
   "cell_type": "code",
   "execution_count": null,
   "metadata": {
    "collapsed": true
   },
   "outputs": [],
   "source": [
    "houses_map = folium.Map(location = [data['lat'].mean(), data['long'].mean()], zoom_start = 10)\n",
    "marker_cluster = folium.MarkerCluster().add_to(houses_map)\n",
    "MAX_RECORDS = 100\n",
    "for name, row in data.iterrows():\n",
    "    folium.Marker([row[\"lat\"], row[\"long\"]], \n",
    "                  popup=\"Sold for {0}$ on: {1}. Features: {2} sqft, {3} bedrooms, {4} bathrooms, year built: {5}\"\\\n",
    "                  .format(row[\"price\"], row[\"date\"], row['sqft_living'], \n",
    "                          row['bedrooms'], row['bathrooms'], row['yr_built'])).add_to(marker_cluster)\n",
    "    \n",
    "houses_map.create_map('houses.html')\n",
    "houses_map"
   ]
  },
  {
   "cell_type": "markdown",
   "metadata": {},
   "source": [
    "![houses map][1]\n",
    "\n",
    "Interactive map is available [here][2]\n",
    "\n",
    "The map is helpful but it's hard to see where the houses in our dataset are located. Instead, we could make a heatmap:\n",
    "\n",
    "\n",
    "  [1]: https://harlfoxem.github.io/img/King_County_House_Prediction_files/housesmap.png\n",
    "  [2]: https://harlfoxem.github.io/houses.html"
   ]
  },
  {
   "cell_type": "code",
   "execution_count": null,
   "metadata": {
    "collapsed": true
   },
   "outputs": [],
   "source": [
    "houses_heatmap = folium.Map(location = [data['lat'].mean(), data['long'].mean()], zoom_start = 9)\n",
    "houses_heatmap.add_children(plugins.HeatMap([[row[\"lat\"], row[\"long\"]] for name, row in data.iterrows()]))\n",
    "houses_heatmap.create_map(\"heatmap.html\")\n",
    "houses_heatmap"
   ]
  },
  {
   "cell_type": "markdown",
   "metadata": {},
   "source": [
    "![heatmap][1]\n",
    "\n",
    "(again, map: [here][2])\n",
    "\n",
    "Heatmaps are good for mapping out gradients, but we’ll want something with more structure to plot out differences in house sale accross the county. Zip codes are a good way to visualize this information.\n",
    "\n",
    "We could for example compute the mean house price by zip code, then plot this out on a map. In the below code, we'll:\n",
    "\n",
    "* group the dataframe by zipcode,\n",
    "* Compute the average price of each column\n",
    "* add a column with the total number of observations (i.e., house sales) per zipcode\n",
    "\n",
    "\n",
    "  [1]: https://harlfoxem.github.io/img/King_County_House_Prediction_files/heatmap.png\n",
    "  [2]: https://harlfoxem.github.io/heatmap.html"
   ]
  },
  {
   "cell_type": "code",
   "execution_count": null,
   "metadata": {
    "collapsed": true
   },
   "outputs": [],
   "source": [
    "zipcode_data = data.groupby('zipcode').aggregate(np.mean)\n",
    "zipcode_data.reset_index(inplace=True)\n",
    "\n",
    "data['count'] = 1\n",
    "count_houses_zipcode = data.groupby('zipcode').sum()\n",
    "count_houses_zipcode.reset_index(inplace=True)\n",
    "count_houses_zipcode = count_houses_zipcode[['zipcode','count']]\n",
    "data.drop(['count'], axis = 1, inplace = True)\n",
    "\n",
    "zipcode_data = pd.merge(zipcode_data, count_houses_zipcode, how='left', on=['zipcode'])\n",
    "zipcode_data.head(2)"
   ]
  },
  {
   "cell_type": "markdown",
   "metadata": {},
   "source": [
    "We’ll now be able to plot the average value of a specific attribute for each zip code. In order to do this, we’ll read data in GeoJSON format to get the shape of each zip code, then match each zip code shape with the attribute score. Let's first create a function.\n",
    "\n",
    "GeoJSON file available [here][1]\n",
    "\n",
    "\n",
    "  [1]: https://github.com/harlfoxem/House_Price_Prediction/blob/master/zipcode_king_county.geojson"
   ]
  },
  {
   "cell_type": "code",
   "execution_count": null,
   "metadata": {
    "collapsed": true
   },
   "outputs": [],
   "source": [
    "def show_zipcode_map(col):\n",
    "    geo_path = 'zipcode/zipcode_king_county.geojson'\n",
    "    zipcode = folium.Map(location=[data['lat'].mean(), data['long'].mean()], zoom_start=9)\n",
    "    zipcode.geo_json(geo_path = geo_path,\n",
    "                     data=zipcode_data, \n",
    "                     columns = ['zipcode', col], key_on = 'feature.properties.ZCTA5CE10',\n",
    "                 fill_color='OrRd', fill_opacity=0.9,line_opacity=0.2)\n",
    "    zipcode.save(col + '.html')\n",
    "    return zipcode"
   ]
  },
  {
   "cell_type": "markdown",
   "metadata": {},
   "source": [
    "Now that we have our function ready, let's make a plot using the variable count."
   ]
  },
  {
   "cell_type": "code",
   "execution_count": null,
   "metadata": {
    "collapsed": true
   },
   "outputs": [],
   "source": [
    "show_zipcode_map('count')"
   ]
  },
  {
   "cell_type": "markdown",
   "metadata": {},
   "source": [
    "![count map][1]\n",
    "\n",
    "Again, map [here][2]\n",
    "\n",
    "The map helps us understand a few things about the dataset. First, we can see that we don't have data for every zip code in the county. This is especially true for the inner suburbs of Seattle. Second, some zipcodes have a lot more house sales recorded than others. The number of observations range from ~50 to ~600.\n",
    "Let's show a few more maps:\n",
    "\n",
    "\n",
    "  [1]: https://harlfoxem.github.io/img/King_County_House_Prediction_files/count.png\n",
    "  [2]: https://harlfoxem.github.io/count.html"
   ]
  },
  {
   "cell_type": "code",
   "execution_count": null,
   "metadata": {
    "collapsed": true
   },
   "outputs": [],
   "source": [
    "show_zipcode_map('price')\n",
    "show_zipcode_map('sqft_living')\n",
    "show_zipcode_map('yr_built')"
   ]
  },
  {
   "cell_type": "markdown",
   "metadata": {},
   "source": [
    "![price map][1]\n",
    "\n",
    "![sqft map][2]\n",
    "\n",
    "![yr built map][3]\n",
    "\n",
    "The three interactive maps are available [here][4], [here][5] and [here][6]\n",
    "\n",
    "We can see that on average, the houses on the eastern suburbs of Seattle are more expensive. They are also bigger in sqft. \n",
    "\n",
    "The houses close to the metropolitan are of Seattle are relatively old compare to the houses in the rural area. \n",
    "\n",
    "\n",
    "  [1]: https://harlfoxem.github.io/img/King_County_House_Prediction_files/price.png\n",
    "  [2]: https://harlfoxem.github.io/img/King_County_House_Prediction_files/sqft.png\n",
    "  [3]: https://harlfoxem.github.io/img/King_County_House_Prediction_files/yrbuilt.png\n",
    "  [4]: https://harlfoxem.github.io/price.html\n",
    "  [5]: https://harlfoxem.github.io/sqft_living.html\n",
    "  [6]: https://harlfoxem.github.io/yr_built.html"
   ]
  },
  {
   "cell_type": "markdown",
   "metadata": {},
   "source": [
    "## 3. The Output Variable\n",
    "\n",
    "Now that we've set the context by plotting out where the houses in our dataset are located, we can move into exploring different angles for our regression analysis. \n",
    "\n",
    "Let's first display the distribution of the target column (price) using a boxplot.\n",
    "![boxplot definition][1]\n",
    "\n",
    "\n",
    "  [1]: https://harlfoxem.github.io/img/King_County_House_Prediction_files/boxplot.png"
   ]
  },
  {
   "cell_type": "code",
   "execution_count": null,
   "metadata": {
    "collapsed": true
   },
   "outputs": [],
   "source": [
    "fig, ax = plt.subplots(figsize=(12,4))\n",
    "sns.boxplot(x = 'price', data = data, orient = 'h', width = 0.8, \n",
    "                 fliersize = 3, showmeans=True, ax = ax)\n",
    "plt.show()"
   ]
  },
  {
   "cell_type": "markdown",
   "metadata": {},
   "source": [
    "There seems to be a lot of outliers at the top of the distribution, with a few houses above the 5000000`$`  value. If we ignore outliers, the range is illustrated by the distance between the opposite ends of the whiskers (1.5 IQR) - about 1000000`$` here.\n",
    "Also, we can see that the right whisker is slightly longer than the left whisker and that the median line is gravitating towards the left of the box. The distribution is therefore slightly skewed to the right.\n",
    "\n",
    "## 4. Associations and Correlations between Variables\n",
    "\n",
    "Let's analyze now the relationship between the independent variables available in the dataset and the dependent variable that we are trying to predict (i.e., price).\n",
    "These analysis should provide some interesting insights for our regression models. \n",
    "\n",
    "We'll be using scatterplots and correlations coefficients (e.g., Pearson, Spearman) to explore potential associations between the variables.\n",
    "\n",
    "### 4.1 Continuous Variables\n",
    "\n",
    "For example, let's analyze the relationship between the square footage of a house (sqft_living) and its selling price. Since the two variables are measured on a continuous scale, we can use Pearson's coefficient r to measures the strength and direction of the relationship."
   ]
  },
  {
   "cell_type": "code",
   "execution_count": null,
   "metadata": {
    "collapsed": true
   },
   "outputs": [],
   "source": [
    "# A joint plot is used to visualize the bivariate distribution\n",
    "sns.jointplot(x=\"sqft_living\", y=\"price\", data=data, kind = 'reg', size = 7)\n",
    "plt.show()"
   ]
  },
  {
   "cell_type": "markdown",
   "metadata": {},
   "source": [
    "There is a clear linear association between the variables (r = 0.7), indicating a strong positive relationship. sqft_living should be a good predicator of house price.\n",
    "(note: sqft_living distribution is also skewed to the right)\n",
    "\n",
    "Let's do the same with the 7 remaining continuous variables:\n",
    "\n",
    "* sqft_lot \n",
    "* sqft_above (i.e., sqft_above = sqft_living - sqft_basement)\n",
    "* sqft_basement\n",
    "* sqft_living15, the average house square footage of the 15 closest neighbours\n",
    "* sqft_lot15, the average lot square footage of the 15 closest neighbours\n",
    "* yr_built\n",
    "* yr_renovated\n",
    "* lat\n",
    "* long"
   ]
  },
  {
   "cell_type": "code",
   "execution_count": null,
   "metadata": {
    "collapsed": true
   },
   "outputs": [],
   "source": [
    "%%javascript\n",
    "IPython.OutputArea.auto_scroll_threshold = 9999;\n",
    "//First, a simple command to increase the maximum size of the output cells in the notebook"
   ]
  },
  {
   "cell_type": "code",
   "execution_count": null,
   "metadata": {
    "collapsed": true
   },
   "outputs": [],
   "source": [
    "sns.jointplot(x=\"sqft_lot\", y=\"price\", data=data, kind = 'reg', size = 5)\n",
    "sns.jointplot(x=\"sqft_above\", y=\"price\", data=data, kind = 'reg', size = 5)\n",
    "sns.jointplot(x=\"sqft_basement\", y=\"price\", data=data, kind = 'reg', size = 5)\n",
    "sns.jointplot(x=\"sqft_living15\", y=\"price\", data=data, kind = 'reg', size = 5)\n",
    "sns.jointplot(x=\"sqft_lot15\", y=\"price\", data=data, kind = 'reg', size = 5)\n",
    "sns.jointplot(x=\"yr_built\", y=\"price\", data=data, kind = 'reg', size = 5)\n",
    "sns.jointplot(x=\"yr_renovated\", y=\"price\", data=data, kind = 'reg', size = 5)\n",
    "sns.jointplot(x=\"lat\", y=\"price\", data=data, kind = 'reg', size = 5)\n",
    "sns.jointplot(x=\"long\", y=\"price\", data=data, kind = 'reg', size = 5)\n",
    "plt.show()"
   ]
  },
  {
   "cell_type": "markdown",
   "metadata": {},
   "source": [
    "sqft_lot, sqft_lot15 and yr_built seem to be poorly related to price. \n",
    "\n",
    "We can see that there is a lot of zeros in the sqft_basement distribution (i.e., no basement). Similarly, there is a lot of zeros in the yr_renovated variable.\n",
    "\n",
    "Let's rerun the association tests for these two variables without the zeros."
   ]
  },
  {
   "cell_type": "code",
   "execution_count": null,
   "metadata": {
    "collapsed": true
   },
   "outputs": [],
   "source": [
    "# Create 2 new columns for the analysis \n",
    "data['sqft_basement2'] = data['sqft_basement'].apply(lambda x: x if x > 0 else None)\n",
    "data['yr_renovated2'] = data['yr_renovated'].apply(lambda x: x if x > 0 else None)\n",
    "\n",
    "# Show the new plots with paerson correlation\n",
    "sns.jointplot(x=\"sqft_basement2\", y=\"price\", data=data, kind = 'reg', dropna=True, size = 5)\n",
    "sns.jointplot(x=\"yr_renovated2\", y=\"price\", data=data, kind = 'reg', dropna=True, size = 5)\n",
    "plt.show()"
   ]
  },
  {
   "cell_type": "markdown",
   "metadata": {},
   "source": [
    "The house price is moderately correlated with the size of the basement (if basement present). There is also a small correlation with the year of the renovation (if renovated).\n",
    "\n",
    "It might be more interesting for our analysis to classify basement and renovation as dichotomous variables (e.g., 0 for no basement, 1 for basement present). Let's create two new columns in our dataset."
   ]
  },
  {
   "cell_type": "code",
   "execution_count": null,
   "metadata": {
    "collapsed": true
   },
   "outputs": [],
   "source": [
    "data['basement_present'] = data['sqft_basement'].apply(lambda x: 1 if x > 0 else 0)\n",
    "data['basement_present'] = data['basement_present'].astype('category', ordered = False)\n",
    "\n",
    "data['renovated'] = data['yr_renovated'].apply(lambda x: 1 if x > 0 else 0)\n",
    "data['renovated'] = data['renovated'].astype('category', ordered = False)"
   ]
  },
  {
   "cell_type": "markdown",
   "metadata": {},
   "source": [
    "We will analyse these new variables as categorical (see in few cells below).\n",
    "\n",
    "But first, let's go back to the plots above and the two variables: sqft_above and sqft_living15. They seem to be strongly related to price. Let's analyse their associations (along with sqft_living) using the pairgrid() function from seaborn. This function creates a matrix of axes and shows the relationship for each pair of the selected variables. \n",
    "\n",
    "We will draw the univariate distribution of each variable on the diagonal Axes, and the bivariate distributions using scatterplots on the upper diagonal and kernel density estimation on the lower diagonal. We will create a function to display the paerson coefficient of each pair. "
   ]
  },
  {
   "cell_type": "code",
   "execution_count": null,
   "metadata": {
    "collapsed": true
   },
   "outputs": [],
   "source": [
    "# define a function to display pearson coefficients on the lower graphs \n",
    "def corrfunc(x, y, **kws):\n",
    "    r, _ = stats.pearsonr(x, y)\n",
    "    ax = plt.gca()\n",
    "    ax.annotate(\"pearsonr = {:.2f}\".format(r),\n",
    "                xy=(.1, .9), xycoords=ax.transAxes)\n",
    "\n",
    "g = sns.PairGrid(data, vars = ['sqft_living', 'sqft_living15', 'sqft_above'], size = 3.5) # define the pairgrid\n",
    "g.map_upper(plt.scatter) \n",
    "g.map_diag(sns.distplot)\n",
    "g.map_lower(sns.kdeplot, cmap=\"Blues_d\")\n",
    "g.map_lower(corrfunc)\n",
    "plt.show()"
   ]
  },
  {
   "cell_type": "markdown",
   "metadata": {},
   "source": [
    "As envisaged, there is a strong positive relationship between the 3 variables (r>0.7). It was kind of obvious for sqft_above which is equal to sqft_livng - sqft_basement. So we know that they both have an impact on price. \n",
    "\n",
    "For sqft_living15 however, we are not sure if the relationship with house price is actually due to the average square footage of the 15th closest houses. This is because of the high correlation between sqft_living15 and sqft_living.\n",
    "\n",
    "To assess the true relationship between price and sqft_living15, we can use the Pearson Partial Correlation test. The correlation can assess the association between two continuous variables whilst controlling for the effect of other continuous variables called covariates. In our example, we will test the relationship between price and sqft_living15 using sqft_living as covariate."
   ]
  },
  {
   "cell_type": "code",
   "execution_count": null,
   "metadata": {
    "collapsed": true
   },
   "outputs": [],
   "source": [
    "# a Function to returns the sample linear partial correlation coefficients between pairs of variables in C, controlling \n",
    "# for the remaining variables in C (clone of Matlab's partialcorr). \n",
    "def partial_corr(C):\n",
    "    C = np.asarray(C)\n",
    "    p = C.shape[1]\n",
    "    P_corr = np.zeros((p, p), dtype=np.float)\n",
    "    for i in range(p):\n",
    "        P_corr[i, i] = 1\n",
    "        for j in range(i+1, p):\n",
    "            idx = np.ones(p, dtype=np.bool)\n",
    "            idx[i] = False\n",
    "            idx[j] = False\n",
    "            beta_i = linalg.lstsq(C[:, idx], C[:, j])[0]\n",
    "            beta_j = linalg.lstsq(C[:, idx], C[:, i])[0]\n",
    "            res_j = C[:, j] - C[:, idx].dot( beta_i)\n",
    "            res_i = C[:, i] - C[:, idx].dot(beta_j)            \n",
    "            corr = stats.pearsonr(res_i, res_j)[0]\n",
    "            P_corr[i, j] = corr\n",
    "            P_corr[j, i] = corr\n",
    "    return P_corr\n",
    "\n",
    "# Convert pandas dataframe to a numpy array using only three columns\n",
    "partial_corr_array = data.as_matrix(columns = ['price', 'sqft_living', 'sqft_living15'])\n",
    "\n",
    "# Calculate the partial correlation coefficients\n",
    "partial_corr(partial_corr_array)"
   ]
  },
  {
   "cell_type": "markdown",
   "metadata": {},
   "source": [
    "We can see now that the average house size of the surrounding\n",
    " houses has no effect on the sell price when controlling for the size of the house (r = 0.06). \n",
    "\n",
    "### 4.2 Categorical Variables\n",
    "\n",
    "Let's now analyze the relationship between house price and the categorical variables.\n",
    "\n",
    "As a first example, we will try to assess if having a waterfront is related to a higher house value. waterfront is a dichotomous variable with underlying continuous distribution (having a waterfront is better that not having a waterfront). We can use a point-biserial correlation coefficient to highlight the relationship between the two variables. "
   ]
  },
  {
   "cell_type": "code",
   "execution_count": null,
   "metadata": {
    "collapsed": true
   },
   "outputs": [],
   "source": [
    "# Let's show boxplots first\n",
    "fig, ax = plt.subplots(figsize=(12,4))\n",
    "sns.boxplot(y = 'waterfront', x = 'price', data = data,width = 0.8,orient = 'h', showmeans = True, fliersize = 3, ax = ax)\n",
    "plt.show()\n",
    "\n",
    "# Calculate the correlation coefficient\n",
    "r, p = stats.pointbiserialr(data['waterfront'], data['price'])\n",
    "print ('point biserial correlation r is %s with p = %s' %(r,p))"
   ]
  },
  {
   "cell_type": "markdown",
   "metadata": {},
   "source": [
    "Comments: \n",
    "\n",
    "* The no waterfront box plot is comparatively short. This suggests that overall, house prices in this group are very close to each other. \n",
    "* The waterfront box plot is comparatively tall. This suggests that house prices differ greatly in this group.\n",
    "* There is obvious shape differences between the two distributions, suggesting a higher sell price, in general, for houses with a waterfront. This is validated by a positive value of the point-biserial correlation.\n",
    "* The correlation if however small (r<0.3). Note that we haven't test here the 3 main assumptions of the point-biserial correlation and can't rely too much on the result (1: There should be no significant outliers in the two groups of the dichotomous variable in terms of the continuous variable, 2: There should be homogeneity of variances, 3: The continuous variable should be approximately normally distributed for each group of the dichotomous variable).  \n",
    "\n",
    "We can run the same test on the basement_present variable and whether or not the house had been renovated in the past."
   ]
  },
  {
   "cell_type": "code",
   "execution_count": null,
   "metadata": {
    "collapsed": true
   },
   "outputs": [],
   "source": [
    "# basement_present variable\n",
    "fig, ax = plt.subplots(figsize=(12,4))\n",
    "sns.boxplot(y = 'basement_present', x = 'price', data = data,width = 0.8,orient = 'h', showmeans = True, fliersize = 3, ax = ax)\n",
    "plt.show()\n",
    "r, p = stats.pointbiserialr(data['basement_present'], data['price'])\n",
    "print ('point biserial correlation r between price and basement_present is %s with p = %s' %(r,p))\n",
    "\n",
    "# renovated variable\n",
    "fig, ax = plt.subplots(figsize=(12,4))\n",
    "sns.boxplot(y = 'renovated', x = 'price', data = data,width = 0.8,orient = 'h', showmeans = True, fliersize = 3, ax = ax)\n",
    "print ('')\n",
    "plt.show()\n",
    "r, p = stats.pointbiserialr(data['renovated'], data['price'])\n",
    "print ('point biserial correlation r between price and renovated is %s with p = %s' %(r,p))"
   ]
  },
  {
   "cell_type": "markdown",
   "metadata": {},
   "source": [
    "Associations exist but they are fairly small (0.1 < r < 0.3). \n",
    "\n",
    "Let's move on to our ordinal variables and asses their association with house price. We will show the distribution of the categories of each variable using boxplots.  "
   ]
  },
  {
   "cell_type": "code",
   "execution_count": null,
   "metadata": {
    "collapsed": true
   },
   "outputs": [],
   "source": [
    "fig, axarr = plt.subplots(6, figsize=(12,40))\n",
    "sns.boxplot(y = 'bedrooms', x = 'price', data = data,width = 0.8,orient = 'h', showmeans = True, fliersize = 3, ax = axarr[0])\n",
    "sns.boxplot(y = 'bathrooms', x = 'price', data = data,width = 0.8,orient = 'h', showmeans = True, fliersize = 3, ax = axarr[1])\n",
    "sns.boxplot(y = 'floors', x = 'price', data = data,width = 0.8,orient = 'h', showmeans = True, fliersize = 3, ax = axarr[2])\n",
    "sns.boxplot(y = 'view', x = 'price', data = data,width = 0.8,orient = 'h', showmeans = True, fliersize = 3, ax = axarr[3])\n",
    "sns.boxplot(y = 'condition', x = 'price', data = data,width = 0.8,orient = 'h', showmeans = True, fliersize = 3, ax = axarr[4])\n",
    "sns.boxplot(y = 'grade', x = 'price', data = data,width = 0.8,orient = 'h', showmeans = True, fliersize = 3, ax = axarr[5])\n",
    "plt.show()"
   ]
  },
  {
   "cell_type": "markdown",
   "metadata": {},
   "source": [
    "As expected, they all seem to be related to the house price.\n",
    "\n",
    "We can use the Spearman's rank-order correlation to measure the strength and direction of the relationships between house price and these variables."
   ]
  },
  {
   "cell_type": "code",
   "execution_count": null,
   "metadata": {
    "collapsed": true
   },
   "outputs": [],
   "source": [
    "r, p = stats.spearmanr(data['bedrooms'], data['price'])\n",
    "print ('spearman correlation r between price and bedrooms is %s with p = %s' %(r,p))\n",
    "r, p = stats.spearmanr(data['bathrooms'], data['price'])\n",
    "print ('spearman correlation r between price and bathrooms is %s with p = %s' %(r,p))\n",
    "r, p = stats.spearmanr(data['floors'], data['price'])\n",
    "print ('spearman correlation r between price and floors is %s with p = %s' %(r,p))\n",
    "r, p = stats.spearmanr(data['view'], data['price'])\n",
    "print ('spearman correlation r between price and view is %s with p = %s' %(r,p))\n",
    "r, p = stats.spearmanr(data['condition'], data['price'])\n",
    "print ('spearman correlation r between price and condition is %s with p = %s' %(r,p))\n",
    "r, p = stats.spearmanr(data['grade'], data['price'])\n",
    "print ('spearman correlation r between price and grade is %s with p = %s' %(r,p))"
   ]
  },
  {
   "cell_type": "markdown",
   "metadata": {},
   "source": [
    "There is indeed associations between these variables and the house price (except for condition). grade seems to be the best indicator.\n",
    "\n",
    "## Conclusion\n",
    "\n",
    "In this post, we analyzed the relationship between the output variable (house price) and the dependent variables in our dataset. \n",
    "\n",
    "More specifically, we highlighted that:\n",
    "\n",
    "* sqft_living, sqft_above and sqft_basement were moderately/strongly associated with price. Paerson r was equal to 0.70, 0.61 and 0.41, respectively. The 3 variables were also strongly related to each other as sqft_living = sqft_above and sqft_basement.\n",
    "* sqft_living15, the average house square footage of the 15 closest neighbors, was also strongly related to price (r = 0.59) . However, when controlling for sqft_living, the relationship disappeared ($r = 0.06$).\n",
    "* sqft_lot, sqft_lot15 (average lot size of the 15 closest houses) and *yr_built* were poorly related to price.\n",
    "* The three dichotomous variables (waterfront, basement_present, renovated) were associated with price. The associations were small (r < 0.3)\n",
    "* Five of the ordinal parameters (bedrooms, bathrooms, floors, views, grade) were also moderately to strongly associated with price.\n",
    "\n",
    "Our multiple regression analysis models in Part 2 will be built on these results."
   ]
  },
  {
   "cell_type": "code",
   "execution_count": null,
   "metadata": {
    "collapsed": true
   },
   "outputs": [],
   "source": []
  }
 ],
 "metadata": {
  "kernelspec": {
   "display_name": "Python 3",
   "language": "python",
   "name": "python3"
  },
  "language_info": {
   "codemirror_mode": {
    "name": "ipython",
    "version": 3
   },
   "file_extension": ".py",
   "mimetype": "text/x-python",
   "name": "python",
   "nbconvert_exporter": "python",
   "pygments_lexer": "ipython3",
   "version": "3.6.0"
  }
 },
 "nbformat": 4,
 "nbformat_minor": 0
}
